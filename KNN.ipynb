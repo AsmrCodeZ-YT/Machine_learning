{
 "cells": [
  {
   "cell_type": "code",
   "execution_count": null,
   "metadata": {},
   "outputs": [],
   "source": [
    "import numpy as np\n",
    "from collections import Counter\n",
    "import pandas as pd\n",
    "from sklearn.preprocessing import LabelEncoder\n",
    "from sklearn.model_selection import train_test_split\n",
    "from sklear.neighbors import KNeighborsClassifier"
   ]
  },
  {
   "cell_type": "code",
   "execution_count": 25,
   "metadata": {},
   "outputs": [],
   "source": [
    "def euclidean_distance(x1,x2):\n",
    "    return np.sqrt(np.sum(x1-x2)**2)\n",
    "\n",
    "class KNN:\n",
    "    def __init__(self, k=3):\n",
    "        self.k = k\n",
    "    \n",
    "    def fit(self, X, y):\n",
    "        self.X = X\n",
    "        self.y = y\n",
    "        \n",
    "    def prediction(self, X):\n",
    "        predicted_labels = [self._prediction(x) for x in X]\n",
    "        return np.array(predicted_labels)\n",
    "    \n",
    "    def _prediction(self, x):\n",
    "        #calculate\n",
    "        distance = [euclidean_distance(x,x_train) for x_train in self.X]\n",
    "        #get k neares sample labels\n",
    "        k_indicies = np.argsort(distance)[:self.k]\n",
    "        k_nearest_labels = [self.y_train[i] for i in k_indicies]\n",
    "        #vote\n",
    "        most_common = Counter(k_nearest_labels).most_common(1)\n",
    "        return most_common[0][0]\n",
    "            "
   ]
  },
  {
   "cell_type": "code",
   "execution_count": null,
   "metadata": {},
   "outputs": [],
   "source": [
    "data = pd.read_csv(\"car.data\")"
   ]
  },
  {
   "cell_type": "code",
   "execution_count": null,
   "metadata": {},
   "outputs": [],
   "source": [
    "myPreprocessor = LabelEncoder()\n",
    "buying   = myPreprocessor.fit_transform(list(data[\"buying\"]))\n",
    "maint    = myPreprocessor.fit_transform(list(data[\"maint\"]))\n",
    "door     = myPreprocessor.fit_transform(list(data[\"door\"]))\n",
    "persons  = myPreprocessor.fit_transform(list(data[\"persons\"]))\n",
    "lug_boot = myPreprocessor.fit_transform(list(data[\"lug_boot\"]))\n",
    "safety   = myPreprocessor.fit_transform(list(data[\"safety\"]))\n",
    "clas     = myPreprocessor.fit_transform(list(data[\"clas\"]))\n",
    "predict = \"class\"\n",
    "X = np.array(list(zip(buying, maint, door, persons, lug_boot, safety)))\n",
    "y = np.array(list(clas))\n",
    "x_train, x_test, y_train, y_test = train_test_split(X,y, test_size=0.1)"
   ]
  },
  {
   "cell_type": "code",
   "execution_count": null,
   "metadata": {},
   "outputs": [],
   "source": [
    "model = KNN(5)\n",
    "model.fit(x_train, y_train)\n",
    "prediction = model.prediction(x_test)"
   ]
  },
  {
   "cell_type": "code",
   "execution_count": null,
   "metadata": {},
   "outputs": [],
   "source": [
    "n = 0\n",
    "for i in range(len(prediction)):\n",
    "    if y_test[i] == prediction[i]:\n",
    "        n+=1\n",
    "print(n/len(prediction)**100)"
   ]
  },
  {
   "cell_type": "code",
   "execution_count": null,
   "metadata": {},
   "outputs": [],
   "source": [
    "sk_model = KNeighborsClassifier(n_neighbors=5)\n",
    "sk_model.fit(x_train, y_train)\n",
    "acc = sk_model.score(x_test, y_test)\n",
    "print(acc*100)"
   ]
  }
 ],
 "metadata": {
  "kernelspec": {
   "display_name": "Python 3",
   "language": "python",
   "name": "python3"
  },
  "language_info": {
   "codemirror_mode": {
    "name": "ipython",
    "version": 3
   },
   "file_extension": ".py",
   "mimetype": "text/x-python",
   "name": "python",
   "nbconvert_exporter": "python",
   "pygments_lexer": "ipython3",
   "version": "3.12.4"
  }
 },
 "nbformat": 4,
 "nbformat_minor": 2
}
